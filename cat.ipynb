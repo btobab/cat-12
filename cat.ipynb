{
 "cells": [
  {
   "cell_type": "markdown",
   "metadata": {
    "collapsed": false
   },
   "source": [
    "![](https://ai-studio-static-online.cdn.bcebos.com/c5d5b0e941ab46a783d853d2724f9986442cc985dda74222a64053349cd6778b)"
   ]
  },
  {
   "cell_type": "markdown",
   "metadata": {
    "collapsed": false
   },
   "source": [
    "## Abstract（摘要）\n",
    "哈咯，大家好，我是生而为弟。本期我们主要介绍一下苏大的R-Drop。\n",
    "\n",
    "众所周知，在训练深度神经网络时，正则化技术对于防止过拟合和提高深度模型的泛化能力是必不可少的。其中，dropout 技术是使用最广泛的一种，旨在通过在训练期间简单地从神经网络中删除一定比例的隐藏单元来避免协同适应并执行隐式集成。\n",
    "\n",
    "好，现在我们已知dropout的牛逼，然而，在实作中，dropout往往是难以找到最优解。试想每一次前向计算，dropout都会随机丢弃一些隐藏单元，所有的丢弃的可能情况N可以用排列组合来计算，也正因如此，模型的参数空间也扩大了N倍，因此要找到最优解需要更多轮的训练以及更精细的调参。因此，苏大的大佬们一拍脑袋，想了个法子，既能充分利用dropout来应对过拟合，也能尽可能地缩小参数空间。"
   ]
  },
  {
   "cell_type": "markdown",
   "metadata": {
    "collapsed": false
   },
   "source": [
    "## Introduction（介绍）\n",
    "首先有一个先验知识，大佬们认为，每一次前向计算都会随机丢掉一些隐藏单元，因此其实在每一轮计算时，模型的结构都是不同的。好，知道了这一点，下面我们继续。\n",
    "\n",
    "平时我们在前向计算中都是只dropout一次，这回大佬们开了个脑洞，我们dropout两次试试。\n",
    "\n",
    "具体来说，在每次 mini-batch 训练中，每个数据样本都经过两次前向传递，每次传递都由不同的子模型通过随机丢弃一些隐藏单元来处理。 R-Drop 通过最小化两个分布之间的双向KL散度，强制两个子模型输出的相同数据样本的两个分布彼此一致。也就是说，R-Drop正则化了模型训练中每个数据样本的两个采样子模型的输出。\n",
    "\n",
    "下图形象地展示了该思想\n",
    "![](https://ai-studio-static-online.cdn.bcebos.com/ee4a793312d64b99826a26c5fc178f05f62a399db5c748229fe693d551a34401)"
   ]
  },
  {
   "cell_type": "markdown",
   "metadata": {
    "collapsed": false
   },
   "source": [
    "## Algorithm（算法）\n",
    "![](https://ai-studio-static-online.cdn.bcebos.com/312b7eabfb204582aa5a4f2517401ddee051d856cfd542a1bd4e111f6b3268c4)\n",
    "![](https://ai-studio-static-online.cdn.bcebos.com/7fb704dc37444d4b98d6da5809e3ad7bef439937354b491eb9e1aede614ffa8d)\n",
    "![](https://ai-studio-static-online.cdn.bcebos.com/30c4912aef764beab6a73a27de6d12a1d05f073505fc4d83b84d4302a1741264)\n",
    "![](https://ai-studio-static-online.cdn.bcebos.com/0e7481c71feb4d7e8a840f0b3db2b481c13ca8446d35481b8e891041ef808e5b)\n"
   ]
  },
  {
   "cell_type": "markdown",
   "metadata": {
    "collapsed": false
   },
   "source": [
    "## Implement（实作）"
   ]
  },
  {
   "cell_type": "markdown",
   "metadata": {
    "collapsed": false
   },
   "source": [
    "### 解压数据集"
   ]
  },
  {
   "cell_type": "code",
   "execution_count": null,
   "metadata": {
    "collapsed": false
   },
   "outputs": [],
   "source": [
    "!unzip -oq /home/aistudio/data/data70856/cat_12_test.zip -d data/\r\n",
    "!unzip -oq /home/aistudio/data/data70856/cat_12_train.zip -d data/\r\n",
    "!mv data/work/cat_12_train data/\r\n",
    "!mv data/work/cat_12_test data/\r\n",
    "!rm -rf data/work/"
   ]
  },
  {
   "cell_type": "markdown",
   "metadata": {
    "collapsed": false
   },
   "source": [
    "### 导入所需库"
   ]
  },
  {
   "cell_type": "code",
   "execution_count": null,
   "metadata": {
    "collapsed": false
   },
   "outputs": [],
   "source": [
    "import numpy as np\r\n",
    "import os\r\n",
    "import cv2\r\n",
    "import paddle\r\n",
    "from paddle.io import Dataset,DataLoader\r\n",
    "import paddle.nn as nn\r\n",
    "import paddle.nn.functional as F\r\n",
    "import paddle.vision.transforms as T\r\n",
    "import matplotlib.pyplot as plt\r\n",
    "import matplotlib.image as Image\r\n",
    "from utils import show_imgs"
   ]
  },
  {
   "cell_type": "code",
   "execution_count": null,
   "metadata": {
    "collapsed": false
   },
   "outputs": [],
   "source": [
    "# txt文件路径，提取出所有图片的路径以及类别\n",
    "files_path=\"data/data70857/train_list.txt\"\n",
    "# 测试集文件夹路径\n",
    "dir_path=\"data/cat_12_test\"\n",
    "# 批大小\n",
    "batch_size=32\n",
    "#学习率\n",
    "learning_rate=3e-5\n",
    "# 训练轮数\n",
    "num_epoch=30\n",
    "# KL_loss权重\n",
    "alpha=5"
   ]
  },
  {
   "cell_type": "markdown",
   "metadata": {
    "collapsed": false
   },
   "source": [
    "### 数据准备"
   ]
  },
  {
   "cell_type": "code",
   "execution_count": null,
   "metadata": {
    "collapsed": false
   },
   "outputs": [],
   "source": [
    "train_paths=[]\r\n",
    "train_labels=[]\r\n",
    "eval_paths=[]\r\n",
    "eval_labels=[]\r\n",
    "with open(files_path) as f:\r\n",
    "    lines=f.readlines()\r\n",
    "    flag=0\r\n",
    "    # line:每条路径及分类\r\n",
    "    for line in lines:\r\n",
    "        '''\r\n",
    "        此处使用matplotlib读取图片，因为一方面opencv无法识别中文路径\r\n",
    "        另一方面，opencv有时无法读取某些图片，原因未知\r\n",
    "        '''\r\n",
    "        img_path=\"data/\"+line.split(\"\\t\")[0]\r\n",
    "        img=Image.imread(img_path)\r\n",
    "        # 判断图片是否为空\r\n",
    "        if not(img is None):\r\n",
    "            label=line.split(\"\\t\")[1]\r\n",
    "            if flag%10==0:\r\n",
    "                eval_paths.append(img_path)\r\n",
    "                eval_labels.append(int(label))\r\n",
    "            else:\r\n",
    "                train_paths.append(img_path)\r\n",
    "                train_labels.append(int(label))\r\n",
    "        flag+=1\r\n",
    "train_paths=np.array(train_paths)\r\n",
    "print(train_paths.shape)\r\n",
    "train_labels=paddle.to_tensor(train_labels,dtype=\"int64\")\r\n",
    "print(train_labels.shape)\r\n",
    "eval_paths=np.array(eval_paths)\r\n",
    "print(eval_paths.shape)\r\n",
    "eval_labels=paddle.to_tensor(eval_labels,dtype=\"int64\")\r\n",
    "print(eval_labels.shape)"
   ]
  },
  {
   "cell_type": "markdown",
   "metadata": {
    "collapsed": false
   },
   "source": [
    "### 数据预处理"
   ]
  },
  {
   "cell_type": "code",
   "execution_count": null,
   "metadata": {
    "collapsed": false
   },
   "outputs": [],
   "source": [
    "'''\r\n",
    "此处使用127.5进行归一化，将图片RGB值放缩至-1～1。\r\n",
    "相较于直接除以255，放缩至0～1\r\n",
    "该方法使网络的拟合范围增大，可提升模型效果\r\n",
    "'''\r\n",
    "train_transforms=T.Compose([T.Resize((250,250)),\r\n",
    "                        T.ColorJitter(0.2,0.2,0.2,0.2),\r\n",
    "                        T.CenterCrop(224),\r\n",
    "                        T.RandomHorizontalFlip(0.3),\r\n",
    "                        T.RandomRotation(15),\r\n",
    "                        T.Transpose(),\r\n",
    "                        T.Normalize(mean=127.5,std =127.5)])\r\n",
    "eval_transforms=T.Compose([T.Resize((224,224)),\r\n",
    "                        T.Transpose(),\r\n",
    "                        T.Normalize(mean=127.5,std =127.5)])\r\n",
    "img=Image.imread(train_paths[1])\r\n",
    "img=train_transforms(img)\r\n",
    "print(img.shape)"
   ]
  },
  {
   "cell_type": "markdown",
   "metadata": {
    "collapsed": false
   },
   "source": [
    "### 构造数据读取器"
   ]
  },
  {
   "cell_type": "code",
   "execution_count": null,
   "metadata": {
    "collapsed": false
   },
   "outputs": [],
   "source": [
    "class Mydataset(Dataset):\r\n",
    "    def __init__(self,paths,labels,transforms):\r\n",
    "        super(Mydataset, self).__init__()\r\n",
    "        self.paths=paths\r\n",
    "        self.labels=labels\r\n",
    "        self.transforms=transforms\r\n",
    "\r\n",
    "    def __getitem__(self,index):\r\n",
    "        '''\r\n",
    "        因为本项目使用matplotlib读取图片\r\n",
    "        因此图片的通道顺序为RGB\r\n",
    "        然后opencv内部的顺序为BGR，因此这里需要调换顺序\r\n",
    "        '''\r\n",
    "        path=self.paths[index]\r\n",
    "        img=Image.imread(path)\r\n",
    "        img = cv2.cvtColor(img, cv2.COLOR_RGB2BGR)\r\n",
    "        img=self.transforms(img)\r\n",
    "        return img,self.labels[index]\r\n",
    "\r\n",
    "    def __len__(self):\r\n",
    "        return self.paths.shape[0]\r\n",
    "\r\n",
    "# 实例化训练集\r\n",
    "train_dataset=Mydataset(train_paths,train_labels,train_transforms)\r\n",
    "# 封装\r\n",
    "train_dataloader=DataLoader(train_dataset,batch_size=batch_size,shuffle=True,drop_last=True)\r\n",
    "# 实例化验证集\r\n",
    "eval_dataset=Mydataset(eval_paths,eval_labels,eval_transforms)\r\n",
    "# 封装\r\n",
    "eval_dataloader=DataLoader(eval_dataset,batch_size=batch_size,shuffle=True,drop_last=True)\r\n",
    "# 观察图片读取是否正确\r\n",
    "img,label=next(train_dataloader())\r\n",
    "print(img.shape)\r\n",
    "show_imgs([img[3], img[4], img[5]])"
   ]
  },
  {
   "cell_type": "markdown",
   "metadata": {
    "collapsed": false
   },
   "source": [
    "### 定义网络"
   ]
  },
  {
   "cell_type": "code",
   "execution_count": null,
   "metadata": {
    "collapsed": false
   },
   "outputs": [],
   "source": [
    "class Model(nn.Layer):\r\n",
    "    def __init__(self):\r\n",
    "        super(Model, self).__init__()\r\n",
    "        # 初始化参数\r\n",
    "        nn.initializer.set_global_initializer(nn.initializer.XavierNormal(),nn.initializer.Constant(0.))\r\n",
    "        self.model=nn.Sequential(\r\n",
    "            # 调用预训练模型\r\n",
    "            paddle.vision.models.resnet50(pretrained=True),\r\n",
    "            nn.Linear(1000,128),\r\n",
    "            nn.Sigmoid(),\r\n",
    "            nn.Dropout(0.3),\r\n",
    "            nn.Linear(128,12),\r\n",
    "            nn.Dropout(0.3)\r\n",
    "        )\r\n",
    "    def forward(self,x):\r\n",
    "        x=self.model(x)\r\n",
    "        return x\r\n",
    "\r\n",
    "x=paddle.randn([batch_size,3,224,224])\r\n",
    "model=Model()\r\n",
    "y=model(x)\r\n",
    "print(y.shape)"
   ]
  },
  {
   "cell_type": "markdown",
   "metadata": {
    "collapsed": false
   },
   "source": [
    "### 开启训练"
   ]
  },
  {
   "cell_type": "code",
   "execution_count": 9,
   "metadata": {
    "collapsed": false
   },
   "outputs": [],
   "source": [
    "'''\r\n",
    "开局使用AdamW加速收敛\r\n",
    "当准确率达到一定程度后切换Momentum调优\r\n",
    "'''\r\n",
    "# optimizer=paddle.optimizer.AdamW(learning_rate=learning_rate,parameters=model.parameters())\r\n",
    "scheduler=paddle.optimizer.lr.PolynomialDecay(learning_rate=learning_rate,decay_steps=20,end_lr=learning_rate/30)\r\n",
    "optimizer=paddle.optimizer.Momentum(learning_rate=scheduler,parameters=model.parameters(),weight_decay=1e-2)\r\n",
    "\r\n",
    "# 交叉熵损失\r\n",
    "softmax_loss=paddle.nn.CrossEntropyLoss()\r\n",
    "accuracy=paddle.metric.Accuracy()\r\n",
    "# 最优准确率\r\n",
    "max_score=0.\r\n",
    "# 最优准确率对应轮数\r\n",
    "ex_epoch=0\r\n",
    "for epoch in range(num_epoch):\r\n",
    "    model.train()\r\n",
    "    for i,(data,label) in enumerate(train_dataloader()):\r\n",
    "        summary=[]\r\n",
    "        # 前向传播两次\r\n",
    "        label_hat_A=model(data)\r\n",
    "        label_hat_B=model(data)\r\n",
    "        # cross entropy loss\r\n",
    "        CE_loss=softmax_loss(label_hat_A,label)+softmax_loss(label_hat_B,label)\r\n",
    "        # KL divergence loss\r\n",
    "        KL_loss=0.5*(F.kl_div(F.softmax(label_hat_A,axis=-1),F.softmax(label_hat_B,axis=-1))+ \\\r\n",
    "                    F.kl_div(F.softmax(label_hat_B,axis=-1),F.softmax(label_hat_A,axis=-1)))\r\n",
    "        # 损失加权求和\r\n",
    "        loss=CE_loss+alpha*KL_loss\r\n",
    "        # 反向传播\r\n",
    "        loss.backward()\r\n",
    "        # 更新参数\r\n",
    "        optimizer.step()\r\n",
    "        # 清除梯度\r\n",
    "        optimizer.clear_gradients()\r\n",
    "        if i%30==0:\r\n",
    "            print(\"epoch:%d,i:%d,loss:%f\"%(epoch,i,loss))\r\n",
    "    \r\n",
    "    model.eval()\r\n",
    "    for j,(eval_data,eval_label) in enumerate(eval_dataloader()):\r\n",
    "        summary=[]\r\n",
    "        eval_label_hat=model(eval_data)\r\n",
    "        eval_indexs=eval_label_hat.argmax(-1)\r\n",
    "        eval_loss=softmax_loss(eval_label_hat,eval_label)\r\n",
    "        correct=accuracy.compute(eval_label_hat,eval_label)\r\n",
    "        accuracy.update(correct)\r\n",
    "        acc=accuracy.accumulate()\r\n",
    "        summary.append(acc)\r\n",
    "        accuracy.reset()\r\n",
    "    if sum(summary)/len(summary)>=max_score:\r\n",
    "        max_score=sum(summary)/len(summary)\r\n",
    "        ex_epoch=epoch\r\n",
    "        paddle.save(model.state_dict(),\"./cat.pdparams\")\r\n",
    "        print(\"[eval]saved params\")\r\n",
    "    print(\"eval: epoch:%d,loss:%f,acc:%f\"%(epoch,eval_loss,sum(summary)/len(summary)))\r\n",
    "    print(\"ex_epoch:%d,best acc:%f\"%(ex_epoch,max_score))"
   ]
  },
  {
   "cell_type": "markdown",
   "metadata": {
    "collapsed": false
   },
   "source": [
    "### 加载测试集数据"
   ]
  },
  {
   "cell_type": "code",
   "execution_count": 10,
   "metadata": {
    "collapsed": false
   },
   "outputs": [],
   "source": [
    "test_imgs=[]\r\n",
    "test_names=[]\r\n",
    "for path in os.listdir(dir_path):\r\n",
    "    name=dir_path+\"/\"+path\r\n",
    "    img=Image.imread(name)\r\n",
    "    img = cv2.cvtColor(img, cv2.COLOR_RGB2BGR)\r\n",
    "    if not(img is None):\r\n",
    "        img=train_transforms(img)\r\n",
    "        test_imgs.append(img)\r\n",
    "        test_names.append(path)\r\n",
    "test_imgs=paddle.to_tensor(test_imgs,dtype=\"float32\")\r\n",
    "print(test_imgs.shape)\r\n",
    "print(len(test_names))"
   ]
  },
  {
   "cell_type": "markdown",
   "metadata": {
    "collapsed": false
   },
   "source": [
    "### 预测"
   ]
  },
  {
   "cell_type": "code",
   "execution_count": 11,
   "metadata": {
    "collapsed": false
   },
   "outputs": [],
   "source": [
    "state_dict=paddle.load(\"./cat.pdparams\")\r\n",
    "model=Model()\r\n",
    "model.load_dict(state_dict)\r\n",
    "model.eval()\r\n",
    "\r\n",
    "final_result=[]\r\n",
    "for i,data in enumerate(test_imgs):\r\n",
    "    data=paddle.to_tensor(data)\r\n",
    "    data=paddle.unsqueeze(data,axis=0)\r\n",
    "    result=model(data)\r\n",
    "    result=F.log_softmax(result)\r\n",
    "    index=paddle.argmax(result,axis=-1)\r\n",
    "    final_result.append(test_names[i]+\",\"+str(index.numpy().item())+\"\\n\")\r\n",
    "with open(\"./result.csv\",\"w\") as f:\r\n",
    "    f.writelines(final_result)"
   ]
  },
  {
   "cell_type": "markdown",
   "metadata": {
    "collapsed": false
   },
   "source": [
    "## 结果展示\n",
    "**笔者大概训练了十分钟左右，可以看到效果还是很不戳滴**\n",
    "![](https://ai-studio-static-online.cdn.bcebos.com/f4cdd28820034da08cf399317ffd403e769092331f6a485ebe01c113bf167fda)"
   ]
  },
  {
   "cell_type": "markdown",
   "metadata": {
    "collapsed": false
   },
   "source": [
    "## 总结\n",
    "本项目主要讲了：\n",
    "1. R-Drop的原理\n",
    "2. R-Drop的代码实现\n",
    "3. AI学习地图的实例代码，无脑运行即可通关，还不来玩^_^"
   ]
  },
  {
   "cell_type": "markdown",
   "metadata": {
    "collapsed": false
   },
   "source": [
    "## 关于作者\n",
    "[我在AI Studio上获得钻石等级，点亮8个徽章，来互关呀~ ](https://aistudio.baidu.com/aistudio/personalcenter/thirdview/345331)\n",
    "\n",
    "观众老爷们喜欢就给个三连吧，给俺一点小小的支持"
   ]
  }
 ],
 "metadata": {
  "kernelspec": {
   "display_name": "PaddlePaddle 2.1.0 (Python 3.5)",
   "language": "python",
   "name": "py35-paddle1.2.0"
  },
  "language_info": {
   "codemirror_mode": {
    "name": "ipython",
    "version": 3
   },
   "file_extension": ".py",
   "mimetype": "text/x-python",
   "name": "python",
   "nbconvert_exporter": "python",
   "pygments_lexer": "ipython3",
   "version": "3.7.4"
  }
 },
 "nbformat": 4,
 "nbformat_minor": 1
}
